{
 "cells": [
  {
   "cell_type": "code",
   "execution_count": 1,
   "metadata": {
    "collapsed": false
   },
   "outputs": [],
   "source": [
    "import pandas as pd\n",
    "import plotly"
   ]
  },
  {
   "cell_type": "code",
   "execution_count": 16,
   "metadata": {
    "collapsed": true
   },
   "outputs": [],
   "source": [
    "import plotly.dashboard_objs as dashboard\n",
    "import IPython.display\n",
    "from IPython.display import Image\n",
    "import plotly.graph_objs as go\n",
    "import plotly.plotly as py\n",
    "import numpy as np\n",
    "import matplotlib.pyplot as plt\n",
    "import seaborn as sns\n",
    "%matplotlib inline"
   ]
  },
  {
   "cell_type": "code",
   "execution_count": 137,
   "metadata": {
    "collapsed": false
   },
   "outputs": [],
   "source": [
    "#After importing some libraries time to load the dataset and dig into some simple analysis"
   ]
  },
  {
   "cell_type": "code",
   "execution_count": 6,
   "metadata": {
    "collapsed": true
   },
   "outputs": [],
   "source": [
    "df = pd.read_csv('featureDataWeekOne.csv')"
   ]
  },
  {
   "cell_type": "code",
   "execution_count": 7,
   "metadata": {
    "collapsed": false
   },
   "outputs": [
    {
     "data": {
      "text/html": [
       "<div>\n",
       "<table border=\"1\" class=\"dataframe\">\n",
       "  <thead>\n",
       "    <tr style=\"text-align: right;\">\n",
       "      <th></th>\n",
       "      <th>Unnamed: 0</th>\n",
       "      <th>user_id</th>\n",
       "      <th>date</th>\n",
       "      <th>country</th>\n",
       "      <th>feature_engagement</th>\n",
       "      <th>games_played</th>\n",
       "      <th>revenue</th>\n",
       "    </tr>\n",
       "  </thead>\n",
       "  <tbody>\n",
       "    <tr>\n",
       "      <th>0</th>\n",
       "      <td>1</td>\n",
       "      <td>2</td>\n",
       "      <td>2015-10-01</td>\n",
       "      <td>JP</td>\n",
       "      <td>False</td>\n",
       "      <td>2</td>\n",
       "      <td>0.0</td>\n",
       "    </tr>\n",
       "    <tr>\n",
       "      <th>1</th>\n",
       "      <td>2</td>\n",
       "      <td>3</td>\n",
       "      <td>2015-10-01</td>\n",
       "      <td>JP</td>\n",
       "      <td>False</td>\n",
       "      <td>3</td>\n",
       "      <td>0.0</td>\n",
       "    </tr>\n",
       "    <tr>\n",
       "      <th>2</th>\n",
       "      <td>3</td>\n",
       "      <td>4</td>\n",
       "      <td>2015-10-01</td>\n",
       "      <td>US</td>\n",
       "      <td>False</td>\n",
       "      <td>1</td>\n",
       "      <td>0.0</td>\n",
       "    </tr>\n",
       "    <tr>\n",
       "      <th>3</th>\n",
       "      <td>4</td>\n",
       "      <td>5</td>\n",
       "      <td>2015-10-01</td>\n",
       "      <td>CA</td>\n",
       "      <td>False</td>\n",
       "      <td>4</td>\n",
       "      <td>0.0</td>\n",
       "    </tr>\n",
       "    <tr>\n",
       "      <th>4</th>\n",
       "      <td>5</td>\n",
       "      <td>6</td>\n",
       "      <td>2015-10-01</td>\n",
       "      <td>JP</td>\n",
       "      <td>True</td>\n",
       "      <td>6</td>\n",
       "      <td>0.0</td>\n",
       "    </tr>\n",
       "  </tbody>\n",
       "</table>\n",
       "</div>"
      ],
      "text/plain": [
       "   Unnamed: 0  user_id        date country feature_engagement  games_played  \\\n",
       "0           1        2  2015-10-01      JP              False             2   \n",
       "1           2        3  2015-10-01      JP              False             3   \n",
       "2           3        4  2015-10-01      US              False             1   \n",
       "3           4        5  2015-10-01      CA              False             4   \n",
       "4           5        6  2015-10-01      JP               True             6   \n",
       "\n",
       "   revenue  \n",
       "0      0.0  \n",
       "1      0.0  \n",
       "2      0.0  \n",
       "3      0.0  \n",
       "4      0.0  "
      ]
     },
     "execution_count": 7,
     "metadata": {},
     "output_type": "execute_result"
    }
   ],
   "source": [
    "sns.set(style=\"whitegrid\")\n",
    "df.head(5)"
   ]
  },
  {
   "cell_type": "code",
   "execution_count": 13,
   "metadata": {
    "collapsed": false
   },
   "outputs": [
    {
     "name": "stdout",
     "output_type": "stream",
     "text": [
      "country\n",
      "CA    1.559631\n",
      "DE    1.859415\n",
      "JP    1.696122\n",
      "UK    1.438018\n",
      "US    1.794143\n",
      "Name: revenue, dtype: float64\n"
     ]
    },
    {
     "data": {
      "text/html": [
       "<div>\n",
       "<table border=\"1\" class=\"dataframe\">\n",
       "  <thead>\n",
       "    <tr style=\"text-align: right;\">\n",
       "      <th></th>\n",
       "      <th>Unnamed: 0</th>\n",
       "      <th>user_id</th>\n",
       "      <th>date</th>\n",
       "      <th>country</th>\n",
       "      <th>feature_engagement</th>\n",
       "      <th>games_played</th>\n",
       "      <th>revenue</th>\n",
       "    </tr>\n",
       "  </thead>\n",
       "  <tbody>\n",
       "    <tr>\n",
       "      <th>3610</th>\n",
       "      <td>3611</td>\n",
       "      <td>1436</td>\n",
       "      <td>2015-10-02</td>\n",
       "      <td>JP</td>\n",
       "      <td>True</td>\n",
       "      <td>130</td>\n",
       "      <td>0.000000</td>\n",
       "    </tr>\n",
       "    <tr>\n",
       "      <th>12839</th>\n",
       "      <td>12840</td>\n",
       "      <td>722</td>\n",
       "      <td>2015-10-06</td>\n",
       "      <td>UK</td>\n",
       "      <td>True</td>\n",
       "      <td>70</td>\n",
       "      <td>0.000000</td>\n",
       "    </tr>\n",
       "    <tr>\n",
       "      <th>4125</th>\n",
       "      <td>4126</td>\n",
       "      <td>2055</td>\n",
       "      <td>2015-10-02</td>\n",
       "      <td>UK</td>\n",
       "      <td>True</td>\n",
       "      <td>69</td>\n",
       "      <td>0.000000</td>\n",
       "    </tr>\n",
       "    <tr>\n",
       "      <th>9658</th>\n",
       "      <td>9659</td>\n",
       "      <td>2859</td>\n",
       "      <td>2015-10-04</td>\n",
       "      <td>DE</td>\n",
       "      <td>True</td>\n",
       "      <td>68</td>\n",
       "      <td>0.000000</td>\n",
       "    </tr>\n",
       "    <tr>\n",
       "      <th>11875</th>\n",
       "      <td>11876</td>\n",
       "      <td>2548</td>\n",
       "      <td>2015-10-05</td>\n",
       "      <td>DE</td>\n",
       "      <td>True</td>\n",
       "      <td>67</td>\n",
       "      <td>28.616642</td>\n",
       "    </tr>\n",
       "  </tbody>\n",
       "</table>\n",
       "</div>"
      ],
      "text/plain": [
       "       Unnamed: 0  user_id        date country feature_engagement  \\\n",
       "3610         3611     1436  2015-10-02      JP               True   \n",
       "12839       12840      722  2015-10-06      UK               True   \n",
       "4125         4126     2055  2015-10-02      UK               True   \n",
       "9658         9659     2859  2015-10-04      DE               True   \n",
       "11875       11876     2548  2015-10-05      DE               True   \n",
       "\n",
       "       games_played    revenue  \n",
       "3610            130   0.000000  \n",
       "12839            70   0.000000  \n",
       "4125             69   0.000000  \n",
       "9658             68   0.000000  \n",
       "11875            67  28.616642  "
      ]
     },
     "execution_count": 13,
     "metadata": {},
     "output_type": "execute_result"
    }
   ],
   "source": [
    "#An example of the Excel filtering requests, DE and US biggest spenders \n",
    "print df.groupby('country')['revenue'].mean()\n",
    "df[df['feature_engagement'] == True].sort_values(by='games_played', ascending=False)[:5]"
   ]
  },
  {
   "cell_type": "code",
   "execution_count": 119,
   "metadata": {
    "collapsed": false
   },
   "outputs": [
    {
     "name": "stdout",
     "output_type": "stream",
     "text": [
      "feature_engagement\n",
      "False    4.360819\n",
      "True     7.031304\n",
      "Name: games_played, dtype: float64\n",
      "feature_engagement\n",
      "False    1.533542\n",
      "True     1.771613\n",
      "Name: revenue, dtype: float64\n"
     ]
    }
   ],
   "source": [
    "print df.groupby('feature_engagement')['games_played'].mean()\n",
    "print df.groupby('feature_engagement')['revenue'].mean()\n",
    "#feature_engagement is a success from an aggregate view on both desired metrics"
   ]
  },
  {
   "cell_type": "code",
   "execution_count": 30,
   "metadata": {
    "collapsed": false
   },
   "outputs": [
    {
     "name": "stdout",
     "output_type": "stream",
     "text": [
      "DE    3541\n",
      "JP    3517\n",
      "CA    3509\n",
      "UK    3286\n",
      "US    3278\n",
      "Name: country, dtype: int64\n",
      "country  feature_engagement\n",
      "CA       False                 4.811615\n",
      "         True                  6.999046\n",
      "DE       False                 4.286951\n",
      "         True                  7.008828\n",
      "JP       False                 4.203166\n",
      "         True                  7.168916\n",
      "UK       False                 4.214235\n",
      "         True                  7.073380\n",
      "US       False                 4.303843\n",
      "         True                  6.904687\n",
      "Name: games_played, dtype: float64\n"
     ]
    },
    {
     "data": {
      "image/png": "[encoded data removed]",
      "text/plain": [
       "<matplotlib.figure.Figure at 0x11cd1e1d0>"
      ]
     },
     "metadata": {},
     "output_type": "display_data"
    }
   ],
   "source": [
    "#Sample size of each country cohort relatively stable, increases in games played across the board\n",
    "sns.factorplot(x=\"country\", y=\"games_played\", hue=\"feature_engagement\", data=df, legend_out=False)\n",
    "print df['country'].value_counts()\n",
    "print df.groupby(['country', 'feature_engagement'])['games_played'].mean()"
   ]
  },
  {
   "cell_type": "code",
   "execution_count": 140,
   "metadata": {
    "collapsed": false
   },
   "outputs": [
    {
     "name": "stdout",
     "output_type": "stream",
     "text": [
      "4    2472\n",
      "1    2463\n",
      "0    2463\n",
      "6    2446\n",
      "2    2434\n",
      "5    2432\n",
      "3    2421\n",
      "Name: day_of_week, dtype: int64\n"
     ]
    },
    {
     "data": {
      "text/plain": [
       "<matplotlib.axes._subplots.AxesSubplot at 0x126ae1410>"
      ]
     },
     "execution_count": 140,
     "metadata": {},
     "output_type": "execute_result"
    },
    {
     "data": {
      "image/png": "[encoded data removed]",
      "text/plain": [
       "<matplotlib.figure.Figure at 0x123f520d0>"
      ]
     },
     "metadata": {},
     "output_type": "display_data"
    }
   ],
   "source": [
    "df['day_of_week'] = pd.to_datetime(df['date']).dt.dayofweek\n",
    "#The day of the week with Monday=0, Sunday=6\n",
    "print df['day_of_week'].value_counts()\n",
    "sns.barplot(x='day_of_week', y='games_played', hue='feature_engagement', data=df)\n",
    "#very stable growth in games played as a result of the new feature"
   ]
  },
  {
   "cell_type": "code",
   "execution_count": 34,
   "metadata": {
    "collapsed": false
   },
   "outputs": [
    {
     "data": {
      "text/plain": [
       "country  feature_engagement\n",
       "CA       False                 1.574593\n",
       "         True                  1.549556\n",
       "DE       False                 1.718185\n",
       "         True                  1.963450\n",
       "JP       False                 1.405907\n",
       "         True                  1.915996\n",
       "UK       False                 1.391248\n",
       "         True                  1.473564\n",
       "US       False                 1.577134\n",
       "         True                  1.951729\n",
       "Name: revenue, dtype: float64"
      ]
     },
     "execution_count": 34,
     "metadata": {},
     "output_type": "execute_result"
    },
    {
     "data": {
      "image/png": "[encoded data removed]",
      "text/plain": [
       "<matplotlib.figure.Figure at 0x11d317610>"
      ]
     },
     "metadata": {},
     "output_type": "display_data"
    }
   ],
   "source": [
    "sns.barplot(x='country', y='revenue', hue='feature_engagement', data=df)\n",
    "df.groupby(['country', 'feature_engagement'])['revenue'].mean()\n",
    "#Canada and the UK not spending more with new feature"
   ]
  },
  {
   "cell_type": "code",
   "execution_count": 72,
   "metadata": {
    "collapsed": false
   },
   "outputs": [
    {
     "data": {
      "text/plain": [
       "day_of_week  feature_engagement\n",
       "0            False                 1.500505\n",
       "             True                  1.573425\n",
       "1            False                 1.425469\n",
       "             True                  1.536914\n",
       "2            False                 1.633908\n",
       "             True                  1.808749\n",
       "3            False                 1.648302\n",
       "             True                  2.004438\n",
       "4            False                 1.661947\n",
       "             True                  1.625373\n",
       "5            False                 1.456236\n",
       "             True                  1.989750\n",
       "6            False                 1.408285\n",
       "             True                  1.869670\n",
       "Name: revenue, dtype: float64"
      ]
     },
     "execution_count": 72,
     "metadata": {},
     "output_type": "execute_result"
    },
    {
     "data": {
      "image/png": "[encoded data removed]",
      "text/plain": [
       "<matplotlib.figure.Figure at 0x11f0a03d0>"
      ]
     },
     "metadata": {},
     "output_type": "display_data"
    }
   ],
   "source": [
    "sns.barplot(x=\"day_of_week\", y=\"revenue\", hue=\"feature_engagement\", data=df)\n",
    "df.groupby(['day_of_week', 'feature_engagement'])['revenue'].mean()\n",
    "#revenue decay over the course of the week"
   ]
  },
  {
   "cell_type": "code",
   "execution_count": 158,
   "metadata": {
    "collapsed": false
   },
   "outputs": [
    {
     "name": "stdout",
     "output_type": "stream",
     "text": [
      "count    2997.000000\n",
      "mean        5.716049\n",
      "std         1.312027\n",
      "min         1.000000\n",
      "25%         5.000000\n",
      "50%         6.000000\n",
      "75%         7.000000\n",
      "max         7.000000\n",
      "Name: user_id, dtype: float64\n",
      "count    2794.000000\n",
      "mean        3.544381\n",
      "std         1.589551\n",
      "min         1.000000\n",
      "25%         2.000000\n",
      "50%         4.000000\n",
      "75%         5.000000\n",
      "max         7.000000\n",
      "Name: user_id, dtype: float64\n"
     ]
    }
   ],
   "source": [
    "#summary statistics of users playing during the week and users engaging with the feature during the week\n",
    "print df['user_id'].value_counts().describe()\n",
    "print df[df['feature_engagement'] == True]['user_id'].value_counts().describe()"
   ]
  },
  {
   "cell_type": "code",
   "execution_count": 95,
   "metadata": {
    "collapsed": false
   },
   "outputs": [
    {
     "name": "stdout",
     "output_type": "stream",
     "text": [
      "day_of_week  feature_engagement\n",
      "0            True                  1388\n",
      "             False                 1075\n",
      "1            True                  1443\n",
      "             False                 1020\n",
      "2            True                  1426\n",
      "             False                 1008\n",
      "3            True                  1382\n",
      "             False                 1039\n",
      "4            True                  1433\n",
      "             False                 1039\n",
      "5            True                  1424\n",
      "             False                 1008\n",
      "6            True                  1407\n",
      "             False                 1039\n",
      "Name: feature_engagement, dtype: int64\n",
      "country  feature_engagement\n",
      "CA       True                  2097\n",
      "         False                 1412\n",
      "DE       True                  2039\n",
      "         False                 1502\n",
      "JP       True                  2001\n",
      "         False                 1516\n",
      "UK       True                  1867\n",
      "         False                 1419\n",
      "US       True                  1899\n",
      "         False                 1379\n",
      "Name: feature_engagement, dtype: int64\n"
     ]
    }
   ],
   "source": [
    "print df.groupby('day_of_week')['feature_engagement'].value_counts()\n",
    "print df.groupby('country')['feature_engagement'].value_counts()\n",
    "#more than half of the daily users and country segmented users are engaging the feature"
   ]
  },
  {
   "cell_type": "code",
   "execution_count": 159,
   "metadata": {
    "collapsed": false
   },
   "outputs": [
    {
     "data": {
      "text/html": [
       "<div>\n",
       "<table border=\"1\" class=\"dataframe\">\n",
       "  <thead>\n",
       "    <tr style=\"text-align: right;\">\n",
       "      <th></th>\n",
       "      <th>Unnamed: 0</th>\n",
       "      <th>user_id</th>\n",
       "      <th>date</th>\n",
       "      <th>country</th>\n",
       "      <th>feature_engagement</th>\n",
       "      <th>games_played</th>\n",
       "      <th>revenue</th>\n",
       "      <th>day_of_week</th>\n",
       "      <th>gp2</th>\n",
       "    </tr>\n",
       "  </thead>\n",
       "  <tbody>\n",
       "    <tr>\n",
       "      <th>0</th>\n",
       "      <td>1</td>\n",
       "      <td>2</td>\n",
       "      <td>2015-10-01</td>\n",
       "      <td>JP</td>\n",
       "      <td>False</td>\n",
       "      <td>2</td>\n",
       "      <td>0.0</td>\n",
       "      <td>3</td>\n",
       "      <td>0-5</td>\n",
       "    </tr>\n",
       "    <tr>\n",
       "      <th>1</th>\n",
       "      <td>2</td>\n",
       "      <td>3</td>\n",
       "      <td>2015-10-01</td>\n",
       "      <td>JP</td>\n",
       "      <td>False</td>\n",
       "      <td>3</td>\n",
       "      <td>0.0</td>\n",
       "      <td>3</td>\n",
       "      <td>0-5</td>\n",
       "    </tr>\n",
       "    <tr>\n",
       "      <th>2</th>\n",
       "      <td>3</td>\n",
       "      <td>4</td>\n",
       "      <td>2015-10-01</td>\n",
       "      <td>US</td>\n",
       "      <td>False</td>\n",
       "      <td>1</td>\n",
       "      <td>0.0</td>\n",
       "      <td>3</td>\n",
       "      <td>0-5</td>\n",
       "    </tr>\n",
       "    <tr>\n",
       "      <th>3</th>\n",
       "      <td>4</td>\n",
       "      <td>5</td>\n",
       "      <td>2015-10-01</td>\n",
       "      <td>CA</td>\n",
       "      <td>False</td>\n",
       "      <td>4</td>\n",
       "      <td>0.0</td>\n",
       "      <td>3</td>\n",
       "      <td>0-5</td>\n",
       "    </tr>\n",
       "    <tr>\n",
       "      <th>4</th>\n",
       "      <td>5</td>\n",
       "      <td>6</td>\n",
       "      <td>2015-10-01</td>\n",
       "      <td>JP</td>\n",
       "      <td>True</td>\n",
       "      <td>6</td>\n",
       "      <td>0.0</td>\n",
       "      <td>3</td>\n",
       "      <td>5-10</td>\n",
       "    </tr>\n",
       "  </tbody>\n",
       "</table>\n",
       "</div>"
      ],
      "text/plain": [
       "   Unnamed: 0  user_id        date country feature_engagement  games_played  \\\n",
       "0           1        2  2015-10-01      JP              False             2   \n",
       "1           2        3  2015-10-01      JP              False             3   \n",
       "2           3        4  2015-10-01      US              False             1   \n",
       "3           4        5  2015-10-01      CA              False             4   \n",
       "4           5        6  2015-10-01      JP               True             6   \n",
       "\n",
       "   revenue  day_of_week   gp2  \n",
       "0      0.0            3   0-5  \n",
       "1      0.0            3   0-5  \n",
       "2      0.0            3   0-5  \n",
       "3      0.0            3   0-5  \n",
       "4      0.0            3  5-10  "
      ]
     },
     "execution_count": 159,
     "metadata": {},
     "output_type": "execute_result"
    }
   ],
   "source": [
    "df.head(5)"
   ]
  },
  {
   "cell_type": "code",
   "execution_count": 141,
   "metadata": {
    "collapsed": false
   },
   "outputs": [
    {
     "data": {
      "text/plain": [
       "<seaborn.axisgrid.FacetGrid at 0x126b41c10>"
      ]
     },
     "execution_count": 141,
     "metadata": {},
     "output_type": "execute_result"
    },
    {
     "data": {
      "image/png": "[encoded data removed]",
      "text/plain": [
       "<matplotlib.figure.Figure at 0x123f29450>"
      ]
     },
     "metadata": {},
     "output_type": "display_data"
    }
   ],
   "source": [
    "sns.lmplot('games_played', 'revenue', data=df, hue='feature_engagement', fit_reg=False, scatter_kws={'alpha':0.3})\n",
    "#strong difference between casual (under 20 games per day) and hardcore players (20+ games played and refuse to spend)"
   ]
  },
  {
   "cell_type": "code",
   "execution_count": 118,
   "metadata": {
    "collapsed": false
   },
   "outputs": [
    {
     "data": {
      "text/html": [
       "<div>\n",
       "<table border=\"1\" class=\"dataframe\">\n",
       "  <thead>\n",
       "    <tr style=\"text-align: right;\">\n",
       "      <th></th>\n",
       "      <th>Unnamed: 0</th>\n",
       "      <th>user_id</th>\n",
       "      <th>date</th>\n",
       "      <th>country</th>\n",
       "      <th>feature_engagement</th>\n",
       "      <th>games_played</th>\n",
       "      <th>revenue</th>\n",
       "      <th>day_of_week</th>\n",
       "      <th>gp2</th>\n",
       "    </tr>\n",
       "  </thead>\n",
       "  <tbody>\n",
       "    <tr>\n",
       "      <th>0</th>\n",
       "      <td>1</td>\n",
       "      <td>2</td>\n",
       "      <td>2015-10-01</td>\n",
       "      <td>JP</td>\n",
       "      <td>False</td>\n",
       "      <td>2</td>\n",
       "      <td>0.0</td>\n",
       "      <td>3</td>\n",
       "      <td>0-5</td>\n",
       "    </tr>\n",
       "    <tr>\n",
       "      <th>1</th>\n",
       "      <td>2</td>\n",
       "      <td>3</td>\n",
       "      <td>2015-10-01</td>\n",
       "      <td>JP</td>\n",
       "      <td>False</td>\n",
       "      <td>3</td>\n",
       "      <td>0.0</td>\n",
       "      <td>3</td>\n",
       "      <td>0-5</td>\n",
       "    </tr>\n",
       "    <tr>\n",
       "      <th>2</th>\n",
       "      <td>3</td>\n",
       "      <td>4</td>\n",
       "      <td>2015-10-01</td>\n",
       "      <td>US</td>\n",
       "      <td>False</td>\n",
       "      <td>1</td>\n",
       "      <td>0.0</td>\n",
       "      <td>3</td>\n",
       "      <td>0-5</td>\n",
       "    </tr>\n",
       "    <tr>\n",
       "      <th>3</th>\n",
       "      <td>4</td>\n",
       "      <td>5</td>\n",
       "      <td>2015-10-01</td>\n",
       "      <td>CA</td>\n",
       "      <td>False</td>\n",
       "      <td>4</td>\n",
       "      <td>0.0</td>\n",
       "      <td>3</td>\n",
       "      <td>0-5</td>\n",
       "    </tr>\n",
       "    <tr>\n",
       "      <th>4</th>\n",
       "      <td>5</td>\n",
       "      <td>6</td>\n",
       "      <td>2015-10-01</td>\n",
       "      <td>JP</td>\n",
       "      <td>True</td>\n",
       "      <td>6</td>\n",
       "      <td>0.0</td>\n",
       "      <td>3</td>\n",
       "      <td>5-10</td>\n",
       "    </tr>\n",
       "  </tbody>\n",
       "</table>\n",
       "</div>"
      ],
      "text/plain": [
       "   Unnamed: 0  user_id        date country feature_engagement  games_played  \\\n",
       "0           1        2  2015-10-01      JP              False             2   \n",
       "1           2        3  2015-10-01      JP              False             3   \n",
       "2           3        4  2015-10-01      US              False             1   \n",
       "3           4        5  2015-10-01      CA              False             4   \n",
       "4           5        6  2015-10-01      JP               True             6   \n",
       "\n",
       "   revenue  day_of_week   gp2  \n",
       "0      0.0            3   0-5  \n",
       "1      0.0            3   0-5  \n",
       "2      0.0            3   0-5  \n",
       "3      0.0            3   0-5  \n",
       "4      0.0            3  5-10  "
      ]
     },
     "execution_count": 118,
     "metadata": {},
     "output_type": "execute_result"
    }
   ],
   "source": [
    "df['gp2'] = pd.cut(df['games_played'], [0, 5, 10, 15, 20, 30, 50, 1000], labels=['0-5', '5-10', '10-15', '15-20', '20-30', '30-50', '50+'])\n",
    "df.head(5)"
   ]
  },
  {
   "cell_type": "code",
   "execution_count": 115,
   "metadata": {
    "collapsed": false
   },
   "outputs": [
    {
     "data": {
      "text/plain": [
       "gp2\n",
       "0-5      0.491400\n",
       "5-10     0.701726\n",
       "10-15    0.764291\n",
       "15-20    0.758389\n",
       "20-30    0.757143\n",
       "30-50    0.763975\n",
       "50+      0.857143\n",
       "Name: feature_engagement, dtype: float64"
      ]
     },
     "execution_count": 115,
     "metadata": {},
     "output_type": "execute_result"
    }
   ],
   "source": [
    "df.groupby('gp2')['feature_engagement'].mean()\n",
    "#the more games you play the more likely you are to use the feature"
   ]
  },
  {
   "cell_type": "code",
   "execution_count": 138,
   "metadata": {
    "collapsed": false
   },
   "outputs": [
    {
     "data": {
      "text/html": [
       "<div>\n",
       "<table border=\"1\" class=\"dataframe\">\n",
       "  <thead>\n",
       "    <tr style=\"text-align: right;\">\n",
       "      <th></th>\n",
       "      <th>Unnamed: 0</th>\n",
       "      <th>user_id</th>\n",
       "      <th>feature_engagement</th>\n",
       "      <th>games_played</th>\n",
       "      <th>revenue</th>\n",
       "    </tr>\n",
       "    <tr>\n",
       "      <th>day_of_week</th>\n",
       "      <th></th>\n",
       "      <th></th>\n",
       "      <th></th>\n",
       "      <th></th>\n",
       "      <th></th>\n",
       "    </tr>\n",
       "  </thead>\n",
       "  <tbody>\n",
       "    <tr>\n",
       "      <th>0</th>\n",
       "      <td>11012.845821</td>\n",
       "      <td>1510.634726</td>\n",
       "      <td>True</td>\n",
       "      <td>7.110951</td>\n",
       "      <td>1.573425</td>\n",
       "    </tr>\n",
       "    <tr>\n",
       "      <th>1</th>\n",
       "      <td>13471.375606</td>\n",
       "      <td>1496.474012</td>\n",
       "      <td>True</td>\n",
       "      <td>7.015246</td>\n",
       "      <td>1.536914</td>\n",
       "    </tr>\n",
       "    <tr>\n",
       "      <th>2</th>\n",
       "      <td>15916.605189</td>\n",
       "      <td>1495.151473</td>\n",
       "      <td>True</td>\n",
       "      <td>7.309257</td>\n",
       "      <td>1.808749</td>\n",
       "    </tr>\n",
       "    <tr>\n",
       "      <th>3</th>\n",
       "      <td>1212.053546</td>\n",
       "      <td>1500.038350</td>\n",
       "      <td>True</td>\n",
       "      <td>7.052098</td>\n",
       "      <td>2.004438</td>\n",
       "    </tr>\n",
       "    <tr>\n",
       "      <th>4</th>\n",
       "      <td>3646.590370</td>\n",
       "      <td>1479.662945</td>\n",
       "      <td>True</td>\n",
       "      <td>6.875785</td>\n",
       "      <td>1.625373</td>\n",
       "    </tr>\n",
       "    <tr>\n",
       "      <th>5</th>\n",
       "      <td>6107.250702</td>\n",
       "      <td>1489.297051</td>\n",
       "      <td>True</td>\n",
       "      <td>6.814607</td>\n",
       "      <td>1.989750</td>\n",
       "    </tr>\n",
       "    <tr>\n",
       "      <th>6</th>\n",
       "      <td>8535.468372</td>\n",
       "      <td>1489.113006</td>\n",
       "      <td>True</td>\n",
       "      <td>7.044776</td>\n",
       "      <td>1.869670</td>\n",
       "    </tr>\n",
       "  </tbody>\n",
       "</table>\n",
       "</div>"
      ],
      "text/plain": [
       "               Unnamed: 0      user_id feature_engagement  games_played  \\\n",
       "day_of_week                                                               \n",
       "0            11012.845821  1510.634726               True      7.110951   \n",
       "1            13471.375606  1496.474012               True      7.015246   \n",
       "2            15916.605189  1495.151473               True      7.309257   \n",
       "3             1212.053546  1500.038350               True      7.052098   \n",
       "4             3646.590370  1479.662945               True      6.875785   \n",
       "5             6107.250702  1489.297051               True      6.814607   \n",
       "6             8535.468372  1489.113006               True      7.044776   \n",
       "\n",
       "              revenue  \n",
       "day_of_week            \n",
       "0            1.573425  \n",
       "1            1.536914  \n",
       "2            1.808749  \n",
       "3            2.004438  \n",
       "4            1.625373  \n",
       "5            1.989750  \n",
       "6            1.869670  "
      ]
     },
     "execution_count": 138,
     "metadata": {},
     "output_type": "execute_result"
    }
   ],
   "source": [
    "true_vals = df[df['feature_engagement'] == True].groupby('day_of_week').mean()\n",
    "true_revs,true_gp = true_vals['revenue'].values, true_vals['games_played'].values\n",
    "false_vals = df[df['feature_engagement'] == False].groupby('day_of_week').mean()\n",
    "false_revs,false_gp = false_vals['revenue'].values, false_vals['games_played'].values\n",
    "true_vals"
   ]
  },
  {
   "cell_type": "code",
   "execution_count": 133,
   "metadata": {
    "collapsed": false
   },
   "outputs": [
    {
     "data": {
      "text/html": [
       "<iframe id=\"igraph\" scrolling=\"no\" style=\"border:none;\" seamless=\"seamless\" src=\"https://plot.ly/~jcwall/2.embed\" height=\"525px\" width=\"100%\"></iframe>"
      ],
      "text/plain": [
       "<plotly.tools.PlotlyDisplay object>"
      ]
     },
     "execution_count": 133,
     "metadata": {},
     "output_type": "execute_result"
    }
   ],
   "source": [
    "trace1 = go.Bar(\n",
    "    x=['Monday','Tuesday','Wednesday', 'Thursday', 'Friday', 'Saturday', 'Sunday'],\n",
    "    y=true_revs,\n",
    "    name='True'\n",
    ")\n",
    "trace2 = go.Bar(\n",
    "    x=['Monday','Tuesday','Wednesday', 'Thursday', 'Friday', 'Saturday', 'Sunday'],\n",
    "    y=false_revs,\n",
    "    name='False'\n",
    ")\n",
    "\n",
    "data = [trace1, trace2]\n",
    "layout = go.Layout(\n",
    "    barmode='group'\n",
    ")\n",
    "\n",
    "fig = go.Figure(data=data, layout=layout)\n",
    "py.iplot(fig, filename='grouped-bar')"
   ]
  },
  {
   "cell_type": "code",
   "execution_count": 136,
   "metadata": {
    "collapsed": false
   },
   "outputs": [
    {
     "data": {
      "text/html": [
       "<iframe id=\"igraph\" scrolling=\"no\" style=\"border:none;\" seamless=\"seamless\" src=\"https://plot.ly/~jcwall/4.embed\" height=\"525px\" width=\"100%\"></iframe>"
      ],
      "text/plain": [
       "<plotly.tools.PlotlyDisplay object>"
      ]
     },
     "execution_count": 136,
     "metadata": {},
     "output_type": "execute_result"
    }
   ],
   "source": [
    "trace1 = go.Bar(\n",
    "    x=['Monday','Tuesday','Wednesday', 'Thursday', 'Friday', 'Saturday', 'Sunday'],\n",
    "    y=true_gp,\n",
    "    name='True'\n",
    ")\n",
    "trace2 = go.Bar(\n",
    "    x=['Monday','Tuesday','Wednesday', 'Thursday', 'Friday', 'Saturday', 'Sunday'],\n",
    "    y=false_gp,\n",
    "    name='False'\n",
    ")\n",
    "\n",
    "data = [trace1, trace2]\n",
    "layout = go.Layout(\n",
    "    barmode='group'\n",
    ")\n",
    "\n",
    "fig = go.Figure(data=data, layout=layout)\n",
    "py.iplot(fig, filename='grouped-bar2')"
   ]
  },
  {
   "cell_type": "code",
   "execution_count": 150,
   "metadata": {
    "collapsed": false
   },
   "outputs": [],
   "source": [
    "us_rev = df[df['country'] == 'US'].groupby('day_of_week')['revenue'].sum().values\n",
    "uk_rev = df[df['country'] == 'UK'].groupby('day_of_week')['revenue'].sum().values\n",
    "ca_rev = df[df['country'] == 'CA'].groupby('day_of_week')['revenue'].sum().values\n",
    "de_rev = df[df['country'] == 'DE'].groupby('day_of_week')['revenue'].sum().values\n",
    "jp_rev = df[df['country'] == 'JP'].groupby('day_of_week')['revenue'].sum().values"
   ]
  },
  {
   "cell_type": "code",
   "execution_count": 151,
   "metadata": {
    "collapsed": false
   },
   "outputs": [
    {
     "data": {
      "text/html": [
       "<iframe id=\"igraph\" scrolling=\"no\" style=\"border:none;\" seamless=\"seamless\" src=\"https://plot.ly/~jcwall/7.embed\" height=\"525px\" width=\"100%\"></iframe>"
      ],
      "text/plain": [
       "<plotly.tools.PlotlyDisplay object>"
      ]
     },
     "execution_count": 151,
     "metadata": {},
     "output_type": "execute_result"
    }
   ],
   "source": [
    "trace0 = go.Scatter(\n",
    "    x = ['Monday','Tuesday','Wednesday', 'Thursday', 'Friday', 'Saturday', 'Sunday'],\n",
    "    y = us_rev,\n",
    "    mode = 'lines+markers',\n",
    "    name = 'US'\n",
    ")\n",
    "trace1 = go.Scatter(\n",
    "    x = ['Monday','Tuesday','Wednesday', 'Thursday', 'Friday', 'Saturday', 'Sunday'],\n",
    "    y = uk_rev,\n",
    "    mode = 'lines+markers',\n",
    "    name = 'UK'\n",
    ")\n",
    "trace2 = go.Scatter(\n",
    "    x = ['Monday','Tuesday','Wednesday', 'Thursday', 'Friday', 'Saturday', 'Sunday'],\n",
    "    y = ca_rev,\n",
    "    mode = 'lines+markers',\n",
    "    name = 'CA'\n",
    ")\n",
    "trace3 = go.Scatter(\n",
    "    x = ['Monday','Tuesday','Wednesday', 'Thursday', 'Friday', 'Saturday', 'Sunday'],\n",
    "    y = de_rev,\n",
    "    mode = 'lines+markers',\n",
    "    name = 'DE'\n",
    ")\n",
    "trace4 = go.Scatter(\n",
    "    x = ['Monday','Tuesday','Wednesday', 'Thursday', 'Friday', 'Saturday', 'Sunday'],\n",
    "    y = jp_rev,\n",
    "    mode = 'lines+markers',\n",
    "    name = 'JP'\n",
    ")\n",
    "data = [trace0, trace1, trace2, trace3, trace4]\n",
    "\n",
    "py.iplot(data, filename='line-mode')"
   ]
  },
  {
   "cell_type": "code",
   "execution_count": null,
   "metadata": {
    "collapsed": true
   },
   "outputs": [],
   "source": []
  }
 ],
 "metadata": {
  "anaconda-cloud": {},
  "kernelspec": {
   "display_name": "Python [conda root]",
   "language": "python",
   "name": "conda-root-py"
  },
  "language_info": {
   "codemirror_mode": {
    "name": "ipython",
    "version": 2
   },
   "file_extension": ".py",
   "mimetype": "text/x-python",
   "name": "python",
   "nbconvert_exporter": "python",
   "pygments_lexer": "ipython2",
   "version": "2.7.12"
  }
 },
 "nbformat": 4,
 "nbformat_minor": 1
}
