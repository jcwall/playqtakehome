{
 "cells": [
  {
   "cell_type": "code",
   "execution_count": 1,
   "metadata": {
    "collapsed": false
   },
   "outputs": [],
   "source": [
    "import pandas as pd\n",
    "import plotly"
   ]
  },
  {
   "cell_type": "code",
   "execution_count": 16,
   "metadata": {
    "collapsed": true
   },
   "outputs": [],
   "source": [
    "import plotly.dashboard_objs as dashboard\n",
    "import IPython.display\n",
    "from IPython.display import Image\n",
    "import plotly.graph_objs as go\n",
    "import plotly.plotly as py\n",
    "import numpy as np\n",
    "import matplotlib.pyplot as plt\n",
    "import seaborn as sns\n",
    "%matplotlib inline"
   ]
  },
  {
   "cell_type": "code",
   "execution_count": 5,
   "metadata": {
    "collapsed": false
   },
   "outputs": [
    {
     "data": {
      "text/html": [
       "\n",
       "<!DOCTYPE HTML>\n",
       "<html>\n",
       "  <head>\n",
       "    <style>\n",
       "      body {\n",
       "        margin: 0px;\n",
       "        padding: 0px;\n",
       "      }\n",
       "    </style>\n",
       "  </head>\n",
       "  <body>\n",
       "    <canvas id=\"myCanvas\" width=\"400\" height=\"400\"></canvas>\n",
       "    <script>\n",
       "      var canvas = document.getElementById('myCanvas');\n",
       "      var context = canvas.getContext('2d');\n",
       "      <!-- Dashboard -->\n",
       "      context.beginPath();\n",
       "      context.rect(0, 0, 400, 400);\n",
       "      context.lineWidth = 2;\n",
       "      context.strokeStyle = 'black';\n",
       "      context.stroke();\n",
       "      </script>\n",
       "  </body>\n",
       "</html>\n"
      ],
      "text/plain": [
       "<IPython.core.display.HTML object>"
      ]
     },
     "execution_count": 5,
     "metadata": {},
     "output_type": "execute_result"
    }
   ],
   "source": [
    "my_dboard = dashboard.Dashboard()\n",
    "my_dboard.get_preview()"
   ]
  },
  {
   "cell_type": "code",
   "execution_count": 6,
   "metadata": {
    "collapsed": true
   },
   "outputs": [],
   "source": [
    "df = pd.read_csv('featureDataWeekOne.csv')"
   ]
  },
  {
   "cell_type": "code",
   "execution_count": 7,
   "metadata": {
    "collapsed": false
   },
   "outputs": [
    {
     "data": {
      "text/html": [
       "<div>\n",
       "<table border=\"1\" class=\"dataframe\">\n",
       "  <thead>\n",
       "    <tr style=\"text-align: right;\">\n",
       "      <th></th>\n",
       "      <th>Unnamed: 0</th>\n",
       "      <th>user_id</th>\n",
       "      <th>date</th>\n",
       "      <th>country</th>\n",
       "      <th>feature_engagement</th>\n",
       "      <th>games_played</th>\n",
       "      <th>revenue</th>\n",
       "    </tr>\n",
       "  </thead>\n",
       "  <tbody>\n",
       "    <tr>\n",
       "      <th>0</th>\n",
       "      <td>1</td>\n",
       "      <td>2</td>\n",
       "      <td>2015-10-01</td>\n",
       "      <td>JP</td>\n",
       "      <td>False</td>\n",
       "      <td>2</td>\n",
       "      <td>0.0</td>\n",
       "    </tr>\n",
       "    <tr>\n",
       "      <th>1</th>\n",
       "      <td>2</td>\n",
       "      <td>3</td>\n",
       "      <td>2015-10-01</td>\n",
       "      <td>JP</td>\n",
       "      <td>False</td>\n",
       "      <td>3</td>\n",
       "      <td>0.0</td>\n",
       "    </tr>\n",
       "    <tr>\n",
       "      <th>2</th>\n",
       "      <td>3</td>\n",
       "      <td>4</td>\n",
       "      <td>2015-10-01</td>\n",
       "      <td>US</td>\n",
       "      <td>False</td>\n",
       "      <td>1</td>\n",
       "      <td>0.0</td>\n",
       "    </tr>\n",
       "    <tr>\n",
       "      <th>3</th>\n",
       "      <td>4</td>\n",
       "      <td>5</td>\n",
       "      <td>2015-10-01</td>\n",
       "      <td>CA</td>\n",
       "      <td>False</td>\n",
       "      <td>4</td>\n",
       "      <td>0.0</td>\n",
       "    </tr>\n",
       "    <tr>\n",
       "      <th>4</th>\n",
       "      <td>5</td>\n",
       "      <td>6</td>\n",
       "      <td>2015-10-01</td>\n",
       "      <td>JP</td>\n",
       "      <td>True</td>\n",
       "      <td>6</td>\n",
       "      <td>0.0</td>\n",
       "    </tr>\n",
       "  </tbody>\n",
       "</table>\n",
       "</div>"
      ],
      "text/plain": [
       "   Unnamed: 0  user_id        date country feature_engagement  games_played  \\\n",
       "0           1        2  2015-10-01      JP              False             2   \n",
       "1           2        3  2015-10-01      JP              False             3   \n",
       "2           3        4  2015-10-01      US              False             1   \n",
       "3           4        5  2015-10-01      CA              False             4   \n",
       "4           5        6  2015-10-01      JP               True             6   \n",
       "\n",
       "   revenue  \n",
       "0      0.0  \n",
       "1      0.0  \n",
       "2      0.0  \n",
       "3      0.0  \n",
       "4      0.0  "
      ]
     },
     "execution_count": 7,
     "metadata": {},
     "output_type": "execute_result"
    }
   ],
   "source": [
    "sns.set(style=\"whitegrid\")\n",
    "df.head(5)"
   ]
  },
  {
   "cell_type": "code",
   "execution_count": 13,
   "metadata": {
    "collapsed": false
   },
   "outputs": [
    {
     "name": "stdout",
     "output_type": "stream",
     "text": [
      "country\n",
      "CA    1.559631\n",
      "DE    1.859415\n",
      "JP    1.696122\n",
      "UK    1.438018\n",
      "US    1.794143\n",
      "Name: revenue, dtype: float64\n"
     ]
    },
    {
     "data": {
      "text/html": [
       "<div>\n",
       "<table border=\"1\" class=\"dataframe\">\n",
       "  <thead>\n",
       "    <tr style=\"text-align: right;\">\n",
       "      <th></th>\n",
       "      <th>Unnamed: 0</th>\n",
       "      <th>user_id</th>\n",
       "      <th>date</th>\n",
       "      <th>country</th>\n",
       "      <th>feature_engagement</th>\n",
       "      <th>games_played</th>\n",
       "      <th>revenue</th>\n",
       "    </tr>\n",
       "  </thead>\n",
       "  <tbody>\n",
       "    <tr>\n",
       "      <th>3610</th>\n",
       "      <td>3611</td>\n",
       "      <td>1436</td>\n",
       "      <td>2015-10-02</td>\n",
       "      <td>JP</td>\n",
       "      <td>True</td>\n",
       "      <td>130</td>\n",
       "      <td>0.000000</td>\n",
       "    </tr>\n",
       "    <tr>\n",
       "      <th>12839</th>\n",
       "      <td>12840</td>\n",
       "      <td>722</td>\n",
       "      <td>2015-10-06</td>\n",
       "      <td>UK</td>\n",
       "      <td>True</td>\n",
       "      <td>70</td>\n",
       "      <td>0.000000</td>\n",
       "    </tr>\n",
       "    <tr>\n",
       "      <th>4125</th>\n",
       "      <td>4126</td>\n",
       "      <td>2055</td>\n",
       "      <td>2015-10-02</td>\n",
       "      <td>UK</td>\n",
       "      <td>True</td>\n",
       "      <td>69</td>\n",
       "      <td>0.000000</td>\n",
       "    </tr>\n",
       "    <tr>\n",
       "      <th>9658</th>\n",
       "      <td>9659</td>\n",
       "      <td>2859</td>\n",
       "      <td>2015-10-04</td>\n",
       "      <td>DE</td>\n",
       "      <td>True</td>\n",
       "      <td>68</td>\n",
       "      <td>0.000000</td>\n",
       "    </tr>\n",
       "    <tr>\n",
       "      <th>11875</th>\n",
       "      <td>11876</td>\n",
       "      <td>2548</td>\n",
       "      <td>2015-10-05</td>\n",
       "      <td>DE</td>\n",
       "      <td>True</td>\n",
       "      <td>67</td>\n",
       "      <td>28.616642</td>\n",
       "    </tr>\n",
       "  </tbody>\n",
       "</table>\n",
       "</div>"
      ],
      "text/plain": [
       "       Unnamed: 0  user_id        date country feature_engagement  \\\n",
       "3610         3611     1436  2015-10-02      JP               True   \n",
       "12839       12840      722  2015-10-06      UK               True   \n",
       "4125         4126     2055  2015-10-02      UK               True   \n",
       "9658         9659     2859  2015-10-04      DE               True   \n",
       "11875       11876     2548  2015-10-05      DE               True   \n",
       "\n",
       "       games_played    revenue  \n",
       "3610            130   0.000000  \n",
       "12839            70   0.000000  \n",
       "4125             69   0.000000  \n",
       "9658             68   0.000000  \n",
       "11875            67  28.616642  "
      ]
     },
     "execution_count": 13,
     "metadata": {},
     "output_type": "execute_result"
    }
   ],
   "source": [
    "#scatter of games played and revenue for US\n",
    "print df.groupby('country')['revenue'].mean()\n",
    "df[df['feature_engagement'] == True].sort_values(by='games_played', ascending=False)[:5]"
   ]
  },
  {
   "cell_type": "code",
   "execution_count": 119,
   "metadata": {
    "collapsed": false
   },
   "outputs": [
    {
     "name": "stdout",
     "output_type": "stream",
     "text": [
      "feature_engagement\n",
      "False    4.360819\n",
      "True     7.031304\n",
      "Name: games_played, dtype: float64\n",
      "feature_engagement\n",
      "False    1.533542\n",
      "True     1.771613\n",
      "Name: revenue, dtype: float64\n"
     ]
    }
   ],
   "source": [
    "print df.groupby('feature_engagement')['games_played'].mean()\n",
    "print df.groupby('feature_engagement')['revenue'].mean()"
   ]
  },
  {
   "cell_type": "code",
   "execution_count": 30,
   "metadata": {
    "collapsed": false
   },
   "outputs": [
    {
     "name": "stdout",
     "output_type": "stream",
     "text": [
      "DE    3541\n",
      "JP    3517\n",
      "CA    3509\n",
      "UK    3286\n",
      "US    3278\n",
      "Name: country, dtype: int64\n",
      "country  feature_engagement\n",
      "CA       False                 4.811615\n",
      "         True                  6.999046\n",
      "DE       False                 4.286951\n",
      "         True                  7.008828\n",
      "JP       False                 4.203166\n",
      "         True                  7.168916\n",
      "UK       False                 4.214235\n",
      "         True                  7.073380\n",
      "US       False                 4.303843\n",
      "         True                  6.904687\n",
      "Name: games_played, dtype: float64\n"
     ]
    },
    {
     "data": {
      "image/png": "[encoded data removed]",
      "text/plain": [
       "<matplotlib.figure.Figure at 0x11cd1e1d0>"
      ]
     },
     "metadata": {},
     "output_type": "display_data"
    }
   ],
   "source": [
    "#Goal of feature to increase games played and revenue\n",
    "sns.factorplot(x=\"country\", y=\"games_played\", hue=\"feature_engagement\", data=df, legend_out=False)\n",
    "print df['country'].value_counts()\n",
    "print df.groupby(['country', 'feature_engagement'])['games_played'].mean()"
   ]
  },
  {
   "cell_type": "code",
   "execution_count": 36,
   "metadata": {
    "collapsed": false
   },
   "outputs": [
    {
     "name": "stdout",
     "output_type": "stream",
     "text": [
      "4    2472\n",
      "1    2463\n",
      "0    2463\n",
      "6    2446\n",
      "2    2434\n",
      "5    2432\n",
      "3    2421\n",
      "Name: day_of_week, dtype: int64\n"
     ]
    },
    {
     "data": {
      "text/plain": [
       "<matplotlib.axes._subplots.AxesSubplot at 0x11cca9810>"
      ]
     },
     "execution_count": 36,
     "metadata": {},
     "output_type": "execute_result"
    },
    {
     "data": {
      "image/png": "[encoded data removed]",
      "text/plain": [
       "<matplotlib.figure.Figure at 0x11c9cc650>"
      ]
     },
     "metadata": {},
     "output_type": "display_data"
    }
   ],
   "source": [
    "df['day_of_week'] = pd.to_datetime(df['date']).dt.dayofweek\n",
    "#The day of the week with Monday=0, Sunday=6\n",
    "print df['day_of_week'].value_counts()\n",
    "sns.barplot(x='day_of_week', y='games_played', hue='feature_engagement', data=df)"
   ]
  },
  {
   "cell_type": "code",
   "execution_count": 34,
   "metadata": {
    "collapsed": false
   },
   "outputs": [
    {
     "data": {
      "text/plain": [
       "country  feature_engagement\n",
       "CA       False                 1.574593\n",
       "         True                  1.549556\n",
       "DE       False                 1.718185\n",
       "         True                  1.963450\n",
       "JP       False                 1.405907\n",
       "         True                  1.915996\n",
       "UK       False                 1.391248\n",
       "         True                  1.473564\n",
       "US       False                 1.577134\n",
       "         True                  1.951729\n",
       "Name: revenue, dtype: float64"
      ]
     },
     "execution_count": 34,
     "metadata": {},
     "output_type": "execute_result"
    },
    {
     "data": {
      "image/png": "[encoded data removed]",
      "text/plain": [
       "<matplotlib.figure.Figure at 0x11d317610>"
      ]
     },
     "metadata": {},
     "output_type": "display_data"
    }
   ],
   "source": [
    "sns.barplot(x='country', y='revenue', hue='feature_engagement', data=df)\n",
    "df.groupby(['country', 'feature_engagement'])['revenue'].mean()"
   ]
  },
  {
   "cell_type": "code",
   "execution_count": 72,
   "metadata": {
    "collapsed": false
   },
   "outputs": [
    {
     "data": {
      "text/plain": [
       "day_of_week  feature_engagement\n",
       "0            False                 1.500505\n",
       "             True                  1.573425\n",
       "1            False                 1.425469\n",
       "             True                  1.536914\n",
       "2            False                 1.633908\n",
       "             True                  1.808749\n",
       "3            False                 1.648302\n",
       "             True                  2.004438\n",
       "4            False                 1.661947\n",
       "             True                  1.625373\n",
       "5            False                 1.456236\n",
       "             True                  1.989750\n",
       "6            False                 1.408285\n",
       "             True                  1.869670\n",
       "Name: revenue, dtype: float64"
      ]
     },
     "execution_count": 72,
     "metadata": {},
     "output_type": "execute_result"
    },
    {
     "data": {
      "image/png": "[encoded data removed]",
      "text/plain": [
       "<matplotlib.figure.Figure at 0x11f0a03d0>"
      ]
     },
     "metadata": {},
     "output_type": "display_data"
    }
   ],
   "source": [
    "sns.barplot(x=\"day_of_week\", y=\"revenue\", hue=\"feature_engagement\", data=df)\n",
    "df.groupby(['day_of_week', 'feature_engagement'])['revenue'].mean()"
   ]
  },
  {
   "cell_type": "code",
   "execution_count": 69,
   "metadata": {
    "collapsed": false
   },
   "outputs": [
    {
     "name": "stdout",
     "output_type": "stream",
     "text": [
      "count    2997.000000\n",
      "mean        5.716049\n",
      "std         1.312027\n",
      "min         1.000000\n",
      "25%         5.000000\n",
      "50%         6.000000\n",
      "75%         7.000000\n",
      "max         7.000000\n",
      "Name: user_id, dtype: float64\n"
     ]
    }
   ],
   "source": [
    "print df['user_id'].value_counts().describe()"
   ]
  },
  {
   "cell_type": "code",
   "execution_count": 95,
   "metadata": {
    "collapsed": false
   },
   "outputs": [
    {
     "name": "stdout",
     "output_type": "stream",
     "text": [
      "day_of_week  feature_engagement\n",
      "0            True                  1388\n",
      "             False                 1075\n",
      "1            True                  1443\n",
      "             False                 1020\n",
      "2            True                  1426\n",
      "             False                 1008\n",
      "3            True                  1382\n",
      "             False                 1039\n",
      "4            True                  1433\n",
      "             False                 1039\n",
      "5            True                  1424\n",
      "             False                 1008\n",
      "6            True                  1407\n",
      "             False                 1039\n",
      "Name: feature_engagement, dtype: int64\n",
      "country  feature_engagement\n",
      "CA       True                  2097\n",
      "         False                 1412\n",
      "DE       True                  2039\n",
      "         False                 1502\n",
      "JP       True                  2001\n",
      "         False                 1516\n",
      "UK       True                  1867\n",
      "         False                 1419\n",
      "US       True                  1899\n",
      "         False                 1379\n",
      "Name: feature_engagement, dtype: int64\n"
     ]
    }
   ],
   "source": [
    "print df.groupby('day_of_week')['feature_engagement'].value_counts()\n",
    "print df.groupby('country')['feature_engagement'].value_counts()"
   ]
  },
  {
   "cell_type": "code",
   "execution_count": 96,
   "metadata": {
    "collapsed": false
   },
   "outputs": [
    {
     "data": {
      "text/html": [
       "<div>\n",
       "<table border=\"1\" class=\"dataframe\">\n",
       "  <thead>\n",
       "    <tr style=\"text-align: right;\">\n",
       "      <th></th>\n",
       "      <th>Unnamed: 0</th>\n",
       "      <th>user_id</th>\n",
       "      <th>date</th>\n",
       "      <th>country</th>\n",
       "      <th>feature_engagement</th>\n",
       "      <th>games_played</th>\n",
       "      <th>revenue</th>\n",
       "      <th>day_of_week</th>\n",
       "    </tr>\n",
       "  </thead>\n",
       "  <tbody>\n",
       "    <tr>\n",
       "      <th>0</th>\n",
       "      <td>1</td>\n",
       "      <td>2</td>\n",
       "      <td>2015-10-01</td>\n",
       "      <td>JP</td>\n",
       "      <td>False</td>\n",
       "      <td>2</td>\n",
       "      <td>0.0</td>\n",
       "      <td>3</td>\n",
       "    </tr>\n",
       "    <tr>\n",
       "      <th>1</th>\n",
       "      <td>2</td>\n",
       "      <td>3</td>\n",
       "      <td>2015-10-01</td>\n",
       "      <td>JP</td>\n",
       "      <td>False</td>\n",
       "      <td>3</td>\n",
       "      <td>0.0</td>\n",
       "      <td>3</td>\n",
       "    </tr>\n",
       "    <tr>\n",
       "      <th>2</th>\n",
       "      <td>3</td>\n",
       "      <td>4</td>\n",
       "      <td>2015-10-01</td>\n",
       "      <td>US</td>\n",
       "      <td>False</td>\n",
       "      <td>1</td>\n",
       "      <td>0.0</td>\n",
       "      <td>3</td>\n",
       "    </tr>\n",
       "    <tr>\n",
       "      <th>3</th>\n",
       "      <td>4</td>\n",
       "      <td>5</td>\n",
       "      <td>2015-10-01</td>\n",
       "      <td>CA</td>\n",
       "      <td>False</td>\n",
       "      <td>4</td>\n",
       "      <td>0.0</td>\n",
       "      <td>3</td>\n",
       "    </tr>\n",
       "    <tr>\n",
       "      <th>4</th>\n",
       "      <td>5</td>\n",
       "      <td>6</td>\n",
       "      <td>2015-10-01</td>\n",
       "      <td>JP</td>\n",
       "      <td>True</td>\n",
       "      <td>6</td>\n",
       "      <td>0.0</td>\n",
       "      <td>3</td>\n",
       "    </tr>\n",
       "  </tbody>\n",
       "</table>\n",
       "</div>"
      ],
      "text/plain": [
       "   Unnamed: 0  user_id        date country feature_engagement  games_played  \\\n",
       "0           1        2  2015-10-01      JP              False             2   \n",
       "1           2        3  2015-10-01      JP              False             3   \n",
       "2           3        4  2015-10-01      US              False             1   \n",
       "3           4        5  2015-10-01      CA              False             4   \n",
       "4           5        6  2015-10-01      JP               True             6   \n",
       "\n",
       "   revenue  day_of_week  \n",
       "0      0.0            3  \n",
       "1      0.0            3  \n",
       "2      0.0            3  \n",
       "3      0.0            3  \n",
       "4      0.0            3  "
      ]
     },
     "execution_count": 96,
     "metadata": {},
     "output_type": "execute_result"
    }
   ],
   "source": []
  },
  {
   "cell_type": "code",
   "execution_count": 102,
   "metadata": {
    "collapsed": false
   },
   "outputs": [
    {
     "data": {
      "text/plain": [
       "<seaborn.axisgrid.FacetGrid at 0x11f2c62d0>"
      ]
     },
     "execution_count": 102,
     "metadata": {},
     "output_type": "execute_result"
    },
    {
     "data": {
      "image/png": "[encoded data removed]",
      "text/plain": [
       "<matplotlib.figure.Figure at 0x12051bed0>"
      ]
     },
     "metadata": {},
     "output_type": "display_data"
    }
   ],
   "source": [
    "sns.lmplot('games_played', 'revenue', data=df, hue='feature_engagement')"
   ]
  },
  {
   "cell_type": "code",
   "execution_count": 118,
   "metadata": {
    "collapsed": false
   },
   "outputs": [
    {
     "data": {
      "text/html": [
       "<div>\n",
       "<table border=\"1\" class=\"dataframe\">\n",
       "  <thead>\n",
       "    <tr style=\"text-align: right;\">\n",
       "      <th></th>\n",
       "      <th>Unnamed: 0</th>\n",
       "      <th>user_id</th>\n",
       "      <th>date</th>\n",
       "      <th>country</th>\n",
       "      <th>feature_engagement</th>\n",
       "      <th>games_played</th>\n",
       "      <th>revenue</th>\n",
       "      <th>day_of_week</th>\n",
       "      <th>gp2</th>\n",
       "    </tr>\n",
       "  </thead>\n",
       "  <tbody>\n",
       "    <tr>\n",
       "      <th>0</th>\n",
       "      <td>1</td>\n",
       "      <td>2</td>\n",
       "      <td>2015-10-01</td>\n",
       "      <td>JP</td>\n",
       "      <td>False</td>\n",
       "      <td>2</td>\n",
       "      <td>0.0</td>\n",
       "      <td>3</td>\n",
       "      <td>0-5</td>\n",
       "    </tr>\n",
       "    <tr>\n",
       "      <th>1</th>\n",
       "      <td>2</td>\n",
       "      <td>3</td>\n",
       "      <td>2015-10-01</td>\n",
       "      <td>JP</td>\n",
       "      <td>False</td>\n",
       "      <td>3</td>\n",
       "      <td>0.0</td>\n",
       "      <td>3</td>\n",
       "      <td>0-5</td>\n",
       "    </tr>\n",
       "    <tr>\n",
       "      <th>2</th>\n",
       "      <td>3</td>\n",
       "      <td>4</td>\n",
       "      <td>2015-10-01</td>\n",
       "      <td>US</td>\n",
       "      <td>False</td>\n",
       "      <td>1</td>\n",
       "      <td>0.0</td>\n",
       "      <td>3</td>\n",
       "      <td>0-5</td>\n",
       "    </tr>\n",
       "    <tr>\n",
       "      <th>3</th>\n",
       "      <td>4</td>\n",
       "      <td>5</td>\n",
       "      <td>2015-10-01</td>\n",
       "      <td>CA</td>\n",
       "      <td>False</td>\n",
       "      <td>4</td>\n",
       "      <td>0.0</td>\n",
       "      <td>3</td>\n",
       "      <td>0-5</td>\n",
       "    </tr>\n",
       "    <tr>\n",
       "      <th>4</th>\n",
       "      <td>5</td>\n",
       "      <td>6</td>\n",
       "      <td>2015-10-01</td>\n",
       "      <td>JP</td>\n",
       "      <td>True</td>\n",
       "      <td>6</td>\n",
       "      <td>0.0</td>\n",
       "      <td>3</td>\n",
       "      <td>5-10</td>\n",
       "    </tr>\n",
       "  </tbody>\n",
       "</table>\n",
       "</div>"
      ],
      "text/plain": [
       "   Unnamed: 0  user_id        date country feature_engagement  games_played  \\\n",
       "0           1        2  2015-10-01      JP              False             2   \n",
       "1           2        3  2015-10-01      JP              False             3   \n",
       "2           3        4  2015-10-01      US              False             1   \n",
       "3           4        5  2015-10-01      CA              False             4   \n",
       "4           5        6  2015-10-01      JP               True             6   \n",
       "\n",
       "   revenue  day_of_week   gp2  \n",
       "0      0.0            3   0-5  \n",
       "1      0.0            3   0-5  \n",
       "2      0.0            3   0-5  \n",
       "3      0.0            3   0-5  \n",
       "4      0.0            3  5-10  "
      ]
     },
     "execution_count": 118,
     "metadata": {},
     "output_type": "execute_result"
    }
   ],
   "source": [
    "df['gp2'] = pd.cut(df['games_played'], [0, 5, 10, 15, 20, 30, 50, 1000], labels=['0-5', '5-10', '10-15', '15-20', '20-30', '30-50', '50+'])\n",
    "df.head(5)"
   ]
  },
  {
   "cell_type": "code",
   "execution_count": 115,
   "metadata": {
    "collapsed": false
   },
   "outputs": [
    {
     "data": {
      "text/plain": [
       "gp2\n",
       "0-5      0.491400\n",
       "5-10     0.701726\n",
       "10-15    0.764291\n",
       "15-20    0.758389\n",
       "20-30    0.757143\n",
       "30-50    0.763975\n",
       "50+      0.857143\n",
       "Name: feature_engagement, dtype: float64"
      ]
     },
     "execution_count": 115,
     "metadata": {},
     "output_type": "execute_result"
    }
   ],
   "source": [
    "df.groupby('gp2')['feature_engagement'].mean()"
   ]
  },
  {
   "cell_type": "code",
   "execution_count": 116,
   "metadata": {
    "collapsed": false
   },
   "outputs": [
    {
     "data": {
      "text/plain": [
       "0"
      ]
     },
     "execution_count": 116,
     "metadata": {},
     "output_type": "execute_result"
    }
   ],
   "source": [
    "0"
   ]
  },
  {
   "cell_type": "code",
   "execution_count": null,
   "metadata": {
    "collapsed": true
   },
   "outputs": [],
   "source": []
  }
 ],
 "metadata": {
  "anaconda-cloud": {},
  "kernelspec": {
   "display_name": "Python [conda root]",
   "language": "python",
   "name": "conda-root-py"
  },
  "language_info": {
   "codemirror_mode": {
    "name": "ipython",
    "version": 2
   },
   "file_extension": ".py",
   "mimetype": "text/x-python",
   "name": "python",
   "nbconvert_exporter": "python",
   "pygments_lexer": "ipython2",
   "version": "2.7.12"
  }
 },
 "nbformat": 4,
 "nbformat_minor": 1
}
